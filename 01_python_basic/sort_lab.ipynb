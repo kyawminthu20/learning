{
 "cells": [
  {
   "cell_type": "code",
   "execution_count": 2,
   "id": "b23ad17c",
   "metadata": {},
   "outputs": [],
   "source": [
    "# Types of Sorting Algorithms\n",
    "import time\n",
    "from functools import wraps\n",
    "\n",
    "def time_it(func):\n",
    "    @wraps(func)\n",
    "    def wrapper(*args, **kwargs):\n",
    "        start_time = time.time()\n",
    "        result = func(*args, **kwargs)\n",
    "        end_time = time.time()\n",
    "        print(f\"Execution time of {func.__name__}: {end_time - start_time:.6f} seconds\")\n",
    "        return result\n",
    "    return wrapper\n",
    "\n"
   ]
  },
  {
   "cell_type": "markdown",
   "id": "0799d5f3",
   "metadata": {},
   "source": [
    "### Simple sorting algorithms"
   ]
  },
  {
   "cell_type": "code",
   "execution_count": 7,
   "id": "de685368",
   "metadata": {},
   "outputs": [
    {
     "name": "stdout",
     "output_type": "stream",
     "text": [
      "Original array: [64, 34, 25, 12, 22, 11, 90]\n",
      "Execution time of bubble_sort: 0.000010 seconds\n",
      "Sorted array: [11, 12, 22, 25, 34, 64, 90]\n"
     ]
    }
   ],
   "source": [
    "# Bubble Sort\n",
    "@time_it\n",
    "def bubble_sort(arr):\n",
    "    n = len(arr)\n",
    "    for i in range(n):\n",
    "        for j in range(0, n-i-1):\n",
    "            if arr[j] > arr[j+1]:\n",
    "                arr[j], arr[j+1] = arr[j+1], arr[j]\n",
    "    return arr\n",
    "\n",
    "# Example usage\n",
    "if __name__ == \"__main__\":\n",
    "    sample_array = [64, 34, 25, 12, 22, 11, 90]\n",
    "    print(\"Original array:\", sample_array)\n",
    "    sorted_array = bubble_sort(sample_array.copy())\n",
    "    print(\"Sorted array:\", sorted_array)"
   ]
  },
  {
   "cell_type": "code",
   "execution_count": 8,
   "id": "9223b153",
   "metadata": {},
   "outputs": [
    {
     "name": "stdout",
     "output_type": "stream",
     "text": [
      "Original array: [64, 34, 25, 12, 22, 11, 90]\n",
      "Execution time of insertion_sort: 0.000007 seconds\n",
      "Sorted array: [11, 12, 22, 25, 34, 64, 90]\n"
     ]
    }
   ],
   "source": [
    "# Insertion Sort\n",
    "@time_it\n",
    "def insertion_sort(arr):\n",
    "    for i in range(1, len(arr)):\n",
    "        key = arr[i]\n",
    "        j = i-1\n",
    "        while j >= 0 and key < arr[j]:\n",
    "            arr[j + 1] = arr[j]\n",
    "            j -= 1\n",
    "        arr[j + 1] = key\n",
    "    return arr\n",
    "\n",
    "# Example usage\n",
    "if __name__ == \"__main__\":\n",
    "    sample_array = [64, 34, 25, 12, 22, 11, 90]\n",
    "    print(\"Original array:\", sample_array)\n",
    "    sorted_array = insertion_sort(sample_array.copy())\n",
    "    print(\"Sorted array:\", sorted_array)\n"
   ]
  },
  {
   "cell_type": "code",
   "execution_count": 9,
   "id": "07cf180f",
   "metadata": {},
   "outputs": [
    {
     "name": "stdout",
     "output_type": "stream",
     "text": [
      "Original array: [64, 34, 25, 12, 22, 11, 90]\n",
      "Execution time of selection_sort: 0.000009 seconds\n",
      "Sorted array: [11, 12, 22, 25, 34, 64, 90]\n"
     ]
    }
   ],
   "source": [
    "# selection Sort\n",
    "@time_it\n",
    "def selection_sort(arr):\n",
    "    for i in range(len(arr)):\n",
    "        min_idx = i\n",
    "        for j in range(i+1, len(arr)):\n",
    "            if arr[j] < arr[min_idx]:\n",
    "                min_idx = j\n",
    "        arr[i], arr[min_idx] = arr[min_idx], arr[i]\n",
    "    return arr\n",
    "# Example usage\n",
    "if __name__ == \"__main__\":\n",
    "    sample_array = [64, 34, 25, 12, 22, 11, 90]\n",
    "    print(\"Original array:\", sample_array)\n",
    "    sorted_array = selection_sort(sample_array.copy())\n",
    "    print(\"Sorted array:\", sorted_array)"
   ]
  },
  {
   "cell_type": "markdown",
   "id": "98f9f19c",
   "metadata": {},
   "source": [
    "### Efficient Comparison-Based Sorting Algorithms"
   ]
  },
  {
   "cell_type": "code",
   "execution_count": 10,
   "id": "78c77da4",
   "metadata": {},
   "outputs": [
    {
     "name": "stdout",
     "output_type": "stream",
     "text": [
      "Original array: [64, 34, 25, 12, 22, 11, 90]\n",
      "Execution time of merge_sort: 0.000000 seconds\n",
      "Execution time of merge_sort: 0.000001 seconds\n",
      "Execution time of merge_sort: 0.000000 seconds\n",
      "Execution time of merge_sort: 0.000025 seconds\n",
      "Execution time of merge_sort: 0.000051 seconds\n",
      "Execution time of merge_sort: 0.000000 seconds\n",
      "Execution time of merge_sort: 0.000001 seconds\n",
      "Execution time of merge_sort: 0.000018 seconds\n",
      "Execution time of merge_sort: 0.000001 seconds\n",
      "Execution time of merge_sort: 0.000000 seconds\n",
      "Execution time of merge_sort: 0.000014 seconds\n",
      "Execution time of merge_sort: 0.000046 seconds\n",
      "Execution time of merge_sort: 0.000115 seconds\n",
      "Sorted array: [11, 12, 22, 25, 34, 64, 90]\n"
     ]
    }
   ],
   "source": [
    "# Merge Sort\n",
    "@time_it\n",
    "def merge_sort(arr):\n",
    "    if len(arr) > 1:\n",
    "        mid = len(arr) // 2\n",
    "        L = arr[:mid]\n",
    "        R = arr[mid:]\n",
    "\n",
    "        merge_sort(L)\n",
    "        merge_sort(R)\n",
    "\n",
    "        i = j = k = 0\n",
    "\n",
    "        while i < len(L) and j < len(R):\n",
    "            if L[i] < R[j]:\n",
    "                arr[k] = L[i]\n",
    "                i += 1\n",
    "            else:\n",
    "                arr[k] = R[j]\n",
    "                j += 1\n",
    "            k += 1\n",
    "\n",
    "        while i < len(L):\n",
    "            arr[k] = L[i]\n",
    "            i += 1\n",
    "            k += 1\n",
    "\n",
    "        while j < len(R):\n",
    "            arr[k] = R[j]\n",
    "            j += 1\n",
    "            k += 1\n",
    "    return arr\n",
    "\n",
    "# Example usage\n",
    "if __name__ == \"__main__\":\n",
    "    sample_array = [64, 34, 25, 12, 22, 11, 90]\n",
    "    print(\"Original array:\", sample_array)\n",
    "    sorted_array = merge_sort(sample_array.copy())\n",
    "    print(\"Sorted array:\", sorted_array)"
   ]
  },
  {
   "cell_type": "code",
   "execution_count": 11,
   "id": "bd5e0158",
   "metadata": {},
   "outputs": [
    {
     "name": "stdout",
     "output_type": "stream",
     "text": [
      "Original array: [64, 34, 25, 12, 22, 11, 90]\n",
      "Execution time of quick_sort: 0.000001 seconds\n",
      "Execution time of quick_sort: 0.000000 seconds\n",
      "Execution time of quick_sort: 0.000000 seconds\n",
      "Execution time of quick_sort: 0.000001 seconds\n",
      "Execution time of quick_sort: 0.000000 seconds\n",
      "Execution time of quick_sort: 0.000022 seconds\n",
      "Execution time of quick_sort: 0.000040 seconds\n",
      "Execution time of quick_sort: 0.000059 seconds\n",
      "Execution time of quick_sort: 0.000094 seconds\n",
      "Sorted array: [11, 12, 22, 25, 34, 64, 90]\n"
     ]
    }
   ],
   "source": [
    "# Quick Sort\n",
    "@time_it\n",
    "def quick_sort(arr):\n",
    "    if len(arr) <= 1:\n",
    "        return arr\n",
    "    else:\n",
    "        pivot = arr[len(arr) // 2]\n",
    "        left = [x for x in arr if x < pivot]\n",
    "        middle = [x for x in arr if x == pivot]\n",
    "        right = [x for x in arr if x > pivot]\n",
    "        return quick_sort(left) + middle + quick_sort(right)\n",
    "    \n",
    "# Example usage\n",
    "if __name__ == \"__main__\":\n",
    "    sample_array = [64, 34, 25, 12, 22, 11, 90]\n",
    "    print(\"Original array:\", sample_array)\n",
    "    sorted_array = quick_sort(sample_array.copy())\n",
    "    print(\"Sorted array:\", sorted_array)"
   ]
  },
  {
   "cell_type": "code",
   "execution_count": 12,
   "id": "cd9e2fdb",
   "metadata": {},
   "outputs": [
    {
     "name": "stdout",
     "output_type": "stream",
     "text": [
      "Original array: [64, 34, 25, 12, 22, 11, 90]\n",
      "Execution time of heapify: 0.000001 seconds\n",
      "Execution time of heapify: 0.000017 seconds\n",
      "Execution time of heapify: 0.000001 seconds\n",
      "Execution time of heapify: 0.000001 seconds\n",
      "Execution time of heapify: 0.000009 seconds\n",
      "Execution time of heapify: 0.000000 seconds\n",
      "Execution time of heapify: 0.000008 seconds\n",
      "Execution time of heapify: 0.000000 seconds\n",
      "Execution time of heapify: 0.000007 seconds\n",
      "Execution time of heapify: 0.000016 seconds\n",
      "Execution time of heapify: 0.000000 seconds\n",
      "Execution time of heapify: 0.000007 seconds\n",
      "Execution time of heapify: 0.000000 seconds\n",
      "Execution time of heapify: 0.000007 seconds\n",
      "Execution time of heapify: 0.000000 seconds\n",
      "Execution time of heapify: 0.000007 seconds\n",
      "Execution time of heapify: 0.000000 seconds\n",
      "Sorted array: [11, 12, 22, 25, 34, 64, 90]\n"
     ]
    }
   ],
   "source": [
    "# Heap Sort\n",
    "@time_it\n",
    "def heapify(arr, n, i):\n",
    "    largest = i\n",
    "    left = 2 * i + 1\n",
    "    right = 2 * i + 2\n",
    "\n",
    "    if left < n and arr[i] < arr[left]:\n",
    "        largest = left\n",
    "\n",
    "    if right < n and arr[largest] < arr[right]:\n",
    "        largest = right\n",
    "\n",
    "    if largest != i:\n",
    "        arr[i], arr[largest] = arr[largest], arr[i]\n",
    "        heapify(arr, n, largest)\n",
    "    return arr\n",
    "\n",
    "# Example usage\n",
    "if __name__ == \"__main__\":\n",
    "    sample_array = [64, 34, 25, 12, 22, 11, 90]\n",
    "    n = len(sample_array)\n",
    "    print(\"Original array:\", sample_array)\n",
    "    for i in range(n // 2 - 1, -1, -1):\n",
    "        heapify(sample_array, n, i)\n",
    "    for i in range(n-1, 0, -1):\n",
    "        sample_array[i], sample_array[0] = sample_array[0], sample_array[i]\n",
    "        heapify(sample_array, i, 0)\n",
    "    print(\"Sorted array:\", sample_array)\n",
    "    "
   ]
  },
  {
   "cell_type": "markdown",
   "id": "2fb5c71d",
   "metadata": {},
   "source": [
    "### Non-Comparison-based Sorting Algorithms"
   ]
  },
  {
   "cell_type": "code",
   "execution_count": 13,
   "id": "2d0ec330",
   "metadata": {},
   "outputs": [
    {
     "name": "stdout",
     "output_type": "stream",
     "text": [
      "Original array: [64, 34, 25, 12, 22, 11, 90]\n",
      "Execution time of counting_sort: 0.000018 seconds\n",
      "Sorted array: [11, 12, 22, 25, 34, 64, 90]\n"
     ]
    }
   ],
   "source": [
    "# Counting Sort\n",
    "@time_it\n",
    "def counting_sort(arr):\n",
    "    max_val = max(arr)\n",
    "    count = [0] * (max_val + 1)\n",
    "    for num in arr:\n",
    "        count[num] += 1\n",
    "    sorted_index = 0\n",
    "    for i, cnt in enumerate(count):\n",
    "        for _ in range(cnt):\n",
    "            arr[sorted_index] = i\n",
    "            sorted_index += 1\n",
    "    return arr\n",
    "\n",
    "# Example usage\n",
    "if __name__ == \"__main__\":\n",
    "    sample_array = [64, 34, 25, 12, 22, 11, 90]\n",
    "    print(\"Original array:\", sample_array)\n",
    "    sorted_array = counting_sort(sample_array.copy())\n",
    "    print(\"Sorted array:\", sorted_array)\n",
    "    "
   ]
  },
  {
   "cell_type": "code",
   "execution_count": 14,
   "id": "fb1647cb",
   "metadata": {},
   "outputs": [
    {
     "name": "stdout",
     "output_type": "stream",
     "text": [
      "Original array: [170, 45, 75, 90, 802, 24, 2, 66]\n",
      "Execution time of counting_sort_for_radix: 0.000013 seconds\n",
      "Execution time of counting_sort_for_radix: 0.000006 seconds\n",
      "Execution time of counting_sort_for_radix: 0.000005 seconds\n",
      "Sorted array: [2, 24, 45, 66, 75, 90, 170, 802]\n"
     ]
    }
   ],
   "source": [
    "# Radix Sort\n",
    "@time_it\n",
    "def counting_sort_for_radix(arr, exp):\n",
    "    n = len(arr)\n",
    "    output = [0] * n\n",
    "    count = [0] * 10\n",
    "\n",
    "    for i in range(n):\n",
    "        index = arr[i] // exp\n",
    "        count[index % 10] += 1\n",
    "\n",
    "    for i in range(1, 10):\n",
    "        count[i] += count[i - 1]\n",
    "\n",
    "    for i in range(n - 1, -1, -1):\n",
    "        index = arr[i] // exp\n",
    "        output[count[index % 10] - 1] = arr[i]\n",
    "        count[index % 10] -= 1\n",
    "\n",
    "    for i in range(n):\n",
    "        arr[i] = output[i]\n",
    "    return arr\n",
    "\n",
    "# Example usage\n",
    "if __name__ == \"__main__\":\n",
    "    sample_array = [170, 45, 75, 90, 802, 24, 2, 66]\n",
    "    print(\"Original array:\", sample_array)\n",
    "    max1 = max(sample_array)\n",
    "    exp = 1\n",
    "    while max1 // exp > 0:\n",
    "        counting_sort_for_radix(sample_array, exp)\n",
    "        exp *= 10\n",
    "    print(\"Sorted array:\", sample_array)"
   ]
  },
  {
   "cell_type": "code",
   "execution_count": 15,
   "id": "e9b519a4",
   "metadata": {},
   "outputs": [
    {
     "name": "stdout",
     "output_type": "stream",
     "text": [
      "Original array: [0.42, 0.32, 0.23, 0.52, 0.25, 0.47, 0.51]\n",
      "Execution time of bucket_sort: 0.000011 seconds\n",
      "Sorted array: [0.23, 0.25, 0.32, 0.42, 0.47, 0.51, 0.52]\n"
     ]
    }
   ],
   "source": [
    "# Bucket Sort\n",
    "@time_it\n",
    "def bucket_sort(arr):\n",
    "    bucket = [[] for _ in range(len(arr))]\n",
    "    for num in arr:\n",
    "        index = int(num * len(arr))\n",
    "        bucket[index].append(num)\n",
    "    for i in range(len(arr)):\n",
    "        bucket[i] = sorted(bucket[i])\n",
    "    sorted_array = []\n",
    "    for sublist in bucket:\n",
    "        sorted_array.extend(sublist)\n",
    "    return sorted_array\n",
    "\n",
    "# Example usage\n",
    "if __name__ == \"__main__\":\n",
    "    sample_array = [0.42, 0.32, 0.23, 0.52, 0.25, 0.47, 0.51]\n",
    "    print(\"Original array:\", sample_array)\n",
    "    sorted_array = bucket_sort(sample_array.copy())\n",
    "    print(\"Sorted array:\", sorted_array)"
   ]
  }
 ],
 "metadata": {
  "kernelspec": {
   "display_name": "py311",
   "language": "python",
   "name": "python3"
  },
  "language_info": {
   "codemirror_mode": {
    "name": "ipython",
    "version": 3
   },
   "file_extension": ".py",
   "mimetype": "text/x-python",
   "name": "python",
   "nbconvert_exporter": "python",
   "pygments_lexer": "ipython3",
   "version": "3.11.11"
  }
 },
 "nbformat": 4,
 "nbformat_minor": 5
}
