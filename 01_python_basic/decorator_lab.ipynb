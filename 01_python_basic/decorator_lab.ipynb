{
 "cells": [
  {
   "cell_type": "markdown",
   "id": "e6db46b5",
   "metadata": {},
   "source": [
    "### Decorator"
   ]
  },
  {
   "cell_type": "code",
   "execution_count": 8,
   "id": "67d99bdc",
   "metadata": {},
   "outputs": [
    {
     "name": "stdout",
     "output_type": "stream",
     "text": [
      "*** Hello, Alice! ***\n",
      "Hello, My life School\n",
      "---------------------\n",
      "✨✨✨✨✨✨✨✨✨✨\n",
      "Hello, My life School\n",
      "✨✨✨✨✨✨✨✨✨✨\n",
      "---------------------\n",
      "✨✨✨✨✨✨✨✨✨✨\n",
      "Hello, My life School\n",
      "✨✨✨✨✨✨✨✨✨✨\n"
     ]
    }
   ],
   "source": [
    "def string_wrapper(function_to_wrap):\n",
    "    def wrapper(*args, **kwargs):\n",
    "        original_result = function_to_wrap(*args, **kwargs)\n",
    "        modified_result = f\"*** {original_result} ***\"\n",
    "        return modified_result\n",
    "    return wrapper\n",
    "\n",
    "@string_wrapper\n",
    "def greet(name):\n",
    "    return f\"Hello, {name}!\"\n",
    "# A simple decorator that wraps the output of a function in asterisks\n",
    "print(greet(\"Alice\"))\n",
    "\n",
    "#---------------------\n",
    "\n",
    "def my_shiny_wrapper(function_to_wrap):\n",
    "    def the_wrapper():\n",
    "        print(\"✨✨✨✨✨✨✨✨✨✨\") \n",
    "        function_to_wrap()       \n",
    "        print(\"✨✨✨✨✨✨✨✨✨✨\")\n",
    "\n",
    "    return the_wrapper\n",
    "\n",
    "test_str = \"My life\"\n",
    "\n",
    "def test_method():\n",
    "    print(f\"Hello, {test_str} School\")\n",
    "\n",
    "test_method()\n",
    "print(\"---------------------\")\n",
    "\n",
    "wraper_method = my_shiny_wrapper(test_method)\n",
    "#print(\"Check Type : \",type(wraper_method))\n",
    "wraper_method()\n",
    "\n",
    "\n",
    "print(\"---------------------\")\n",
    "my_shiny_wrapper(test_method)()"
   ]
  },
  {
   "cell_type": "markdown",
   "id": "daf45dea",
   "metadata": {},
   "source": [
    "### Using Decorator to check the time taken when running algorithms and functions"
   ]
  },
  {
   "cell_type": "code",
   "execution_count": null,
   "id": "61594432",
   "metadata": {},
   "outputs": [
    {
     "name": "stdout",
     "output_type": "stream",
     "text": [
      "Function 'compute_sum' executed in 0.012460 seconds\n",
      "Sum: 499999500000\n"
     ]
    }
   ],
   "source": [
    "import time\n",
    "\n",
    "def time_it(function_to_wrap): # A decorator to measure execution time of a function\n",
    "    def wrapper(*args, **kwargs): # Wrapper function to handle arguments and keyword arguments\n",
    "        start_time = time.time()\n",
    "        result = function_to_wrap(*args, **kwargs)\n",
    "        end_time = time.time()\n",
    "        elapsed_time = end_time - start_time\n",
    "        print(f\"Function '{function_to_wrap.__name__}' executed in {elapsed_time:.6f} seconds\")\n",
    "        return result\n",
    "    return wrapper\n",
    "\n",
    "@time_it\n",
    "def compute_sum(n):\n",
    "    return sum(range(n))\n",
    "result = compute_sum(1000000)\n",
    "print(f\"Sum: {result}\") "
   ]
  }
 ],
 "metadata": {
  "kernelspec": {
   "display_name": "py311",
   "language": "python",
   "name": "python3"
  },
  "language_info": {
   "codemirror_mode": {
    "name": "ipython",
    "version": 3
   },
   "file_extension": ".py",
   "mimetype": "text/x-python",
   "name": "python",
   "nbconvert_exporter": "python",
   "pygments_lexer": "ipython3",
   "version": "3.11.13"
  }
 },
 "nbformat": 4,
 "nbformat_minor": 5
}
